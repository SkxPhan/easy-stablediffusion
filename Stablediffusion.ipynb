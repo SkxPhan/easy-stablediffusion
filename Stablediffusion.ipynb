{
 "cells": [
  {
   "cell_type": "markdown",
   "id": "8201c3bb-d6ea-40cd-bec1-6f8febe57a14",
   "metadata": {},
   "source": [
    "# **Easy Stable Diffusion**\n",
    "Python notebook to run Stable Diffusion model in Google Colab.\n",
    "\n",
    "**Note**: make sure to connect to a runtime instance with a GPU!"
   ]
  },
  {
   "cell_type": "markdown",
   "id": "7d812910-61b1-4bb8-b9bc-299e6c05feb3",
   "metadata": {},
   "source": [
    "## 1. Setup\n",
    "Run the cell below to install the dependencies."
   ]
  },
  {
   "cell_type": "code",
   "execution_count": null,
   "id": "eb528ee2-9c76-4c26-84d6-38963a24f425",
   "metadata": {},
   "outputs": [],
   "source": [
    "%%capture\n",
    "!pip install diffusers[\"torch\"] transformers\n",
    "!pip install accelerate\n",
    "!pip install git+https://github.com/huggingface/diffusers"
   ]
  },
  {
   "cell_type": "markdown",
   "id": "78bdd8e9-c8e4-40fa-9d6e-eedf5d6ec133",
   "metadata": {},
   "source": [
    "## 2. Download and run the AI model\n",
    "By running the cell below, we will download the AI model from huggingface and the AI model will be used for the image generation.\n",
    "\n",
    "To select another AI model:\n",
    "\n",
    "\n",
    "1.   Visit [civitai.com](https://civitai.com/models) and select the desired model.\n",
    "2.   Go to [huggingface.co](https://huggingface.co/models) and search the model with the same name.\n",
    "3.   Copy the model name from huggingface and set it in the variable *model* in the cell below. For example, I would copy the model name \"imagepipeline/pony-realism\" from the link [https://huggingface.co/imagepipeline/pony-realism](https://huggingface.co/imagepipeline/pony-realism).\n",
    "4. Run the cell.\n",
    "\n",
    "**Note**: make sure the model is not too heavy or it wont fit into the RAM!"
   ]
  },
  {
   "cell_type": "code",
   "execution_count": null,
   "id": "8fd515c8-65c8-435c-ad6a-197c7fcd1c35",
   "metadata": {},
   "outputs": [],
   "source": [
    "import torch\n",
    "from diffusers import StableDiffusionPipeline\n",
    "\n",
    "model = \"redstonehero/artuniverse_v40\"\n",
    "\n",
    "pipe = StableDiffusionPipeline.from_pretrained(model, torch_dtype=torch.float16)\n",
    "pipe = pipe.to(\"cuda\")\n",
    "pipe.safety_checker = None"
   ]
  },
  {
   "cell_type": "markdown",
   "id": "57cd1805-7254-4c2b-ba38-d7e832d36286",
   "metadata": {},
   "source": [
    "## 3. Input your promt and generate the image"
   ]
  },
  {
   "cell_type": "code",
   "execution_count": null,
   "id": "88c58147-3b6f-4bb0-b589-0c1755d9005d",
   "metadata": {},
   "outputs": [],
   "source": [
    "# Input\n",
    "# Useful guideline for good prompting: https://docs.google.com/document/d/1sgXAnFMEfx-I_Harts7cEGEPAtmWGvl62yJHByPE0ZI/edit#\n",
    "input = {\n",
    "    'prompt': \"photo RAW,(a yellowish transparent ghost holds a bottle of champagne in an attic room. he looks like a medieval paul giamatti. he is sneering. realistic painting), masterpiece, award winning photography, lighting, perfect composition, high detail, hyper realistic,dramatic lighting, epic, Burgundy and dark_blue colors\",\n",
    "    'negative_prompt': \"low quality,medium quality, 3d,frame,bw,watermark,logo,((letters)),paint,draw,(text),(worst quality:2), (low quality:2), (normal quality:2), lowres, bad anatomy, bad hands, normal quality, ((monochrome)), ((grayscale))\",\n",
    "    'height': 512,\n",
    "    'width': 512,\n",
    "    'num_inference_steps': 50,\n",
    "    'guidance_scale': 7,\n",
    "    'num_inference_steps': 100,\n",
    "}\n",
    "\n",
    "# Generate image\n",
    "image = pipe(**input).images[0]\n",
    "image"
   ]
  }
 ],
 "metadata": {
  "kernelspec": {
   "display_name": "Python 3 (ipykernel)",
   "language": "python",
   "name": "python3"
  },
  "language_info": {
   "codemirror_mode": {
    "name": "ipython",
    "version": 3
   },
   "file_extension": ".py",
   "mimetype": "text/x-python",
   "name": "python",
   "nbconvert_exporter": "python",
   "pygments_lexer": "ipython3",
   "version": "3.12.2"
  }
 },
 "nbformat": 4,
 "nbformat_minor": 5
}
